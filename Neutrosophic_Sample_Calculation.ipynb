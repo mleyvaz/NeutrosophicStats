{
  "nbformat": 4,
  "nbformat_minor": 0,
  "metadata": {
    "colab": {
      "name": "Neutrosophic Sample Calculation",
      "provenance": [],
      "authorship_tag": "ABX9TyMZf2FC/96xjlVw0svh6PTb",
      "include_colab_link": true
    },
    "kernelspec": {
      "name": "python3",
      "display_name": "Python 3"
    },
    "language_info": {
      "name": "python"
    }
  },
  "cells": [
    {
      "cell_type": "markdown",
      "metadata": {
        "id": "view-in-github",
        "colab_type": "text"
      },
      "source": [
        "<a href=\"https://colab.research.google.com/github/mleyvaz/NeutrosophicStats/blob/gh-pages/Neutrosophic_Sample_Calculation.ipynb\" target=\"_parent\"><img src=\"https://colab.research.google.com/assets/colab-badge.svg\" alt=\"Open In Colab\"/></a>"
      ]
    },
    {
      "cell_type": "markdown",
      "metadata": {
        "id": "Mut-bS02jpBa"
      },
      "source": [
        "# Neutrosophic Sample Calculation"
      ]
    },
    {
      "cell_type": "code",
      "metadata": {
        "colab": {
          "base_uri": "https://localhost:8080/"
        },
        "id": "8sjPY4cHq75i",
        "outputId": "ae6c27fe-7e0e-4276-dc29-b18a5f7ba4b9"
      },
      "source": [
        "pip install pyinterval"
      ],
      "execution_count": 9,
      "outputs": [
        {
          "output_type": "stream",
          "text": [
            "Collecting pyinterval\n",
            "  Downloading https://files.pythonhosted.org/packages/be/2c/2fc2d0e1bd4a150e5575bc52ae5e817e100fc54a0f485f7943b1d03e59fc/pyinterval-1.2.0.tar.gz\n",
            "Collecting crlibm==1.*,>=1.0.3\n",
            "\u001b[?25l  Downloading https://files.pythonhosted.org/packages/8e/0b/1faf9944f83d9f64e939ee8e6638b9335a2a7166445e28450d237f193459/crlibm-1.0.3.tar.gz (1.6MB)\n",
            "\u001b[K     |████████████████████████████████| 1.6MB 5.8MB/s \n",
            "\u001b[?25hRequirement already satisfied: six>=1.10 in /usr/local/lib/python3.7/dist-packages (from pyinterval) (1.15.0)\n",
            "Building wheels for collected packages: pyinterval, crlibm\n",
            "  Building wheel for pyinterval (setup.py) ... \u001b[?25l\u001b[?25hdone\n",
            "  Created wheel for pyinterval: filename=pyinterval-1.2.0-cp37-none-any.whl size=11252 sha256=5cceb9917698928c1dee51f768e51d70fa01dd0f1fd1f15341c537164bf73850\n",
            "  Stored in directory: /root/.cache/pip/wheels/c2/ab/65/4c7cddcba9cb0187655daea8d6f1a4e110eca28c3a43fd5229\n",
            "  Building wheel for crlibm (setup.py) ... \u001b[?25l\u001b[?25hdone\n",
            "  Created wheel for crlibm: filename=crlibm-1.0.3-cp37-cp37m-linux_x86_64.whl size=175286 sha256=12d7c4225427dc916d0f711574721d959cf3c8f4522bb6c5c70c931ccba67909\n",
            "  Stored in directory: /root/.cache/pip/wheels/d5/ab/34/92febb5ad2286e12413e2cfbc747920df1cff29f4f2435d951\n",
            "Successfully built pyinterval crlibm\n",
            "Installing collected packages: crlibm, pyinterval\n",
            "Successfully installed crlibm-1.0.3 pyinterval-1.2.0\n"
          ],
          "name": "stdout"
        }
      ]
    },
    {
      "cell_type": "code",
      "metadata": {
        "id": "W47vvaBzlwH-"
      },
      "source": [
        "from interval import interval, inf, imath"
      ],
      "execution_count": 10,
      "outputs": []
    },
    {
      "cell_type": "markdown",
      "metadata": {
        "id": "NfaECmVbCyrj"
      },
      "source": [
        ""
      ]
    },
    {
      "cell_type": "markdown",
      "metadata": {
        "id": "V6yEKJb-mK4Y"
      },
      "source": [
        "In this case, you want a confidence level between 90 and 95%, z = [1.645, 1.96], d = [0.05, 0.1] and p = [0.4, 0.44], N = 50. "
      ]
    },
    {
      "cell_type": "code",
      "metadata": {
        "id": "nWWlMM8ioBWz"
      },
      "source": [
        "Z = interval[1.645, 1.96]\n",
        "N=interval[40, 45]\n",
        "p =interval[0.4,0.44]\n",
        "d=interval[0.05, 0.1]\n",
        "\n",
        "\n"
      ],
      "execution_count": 19,
      "outputs": []
    },
    {
      "cell_type": "markdown",
      "metadata": {
        "id": "B2FjWcz6mwKa"
      },
      "source": [
        "The result of the neutrosophic sample is n = [12.248514541853428, 35.506778566817324] indicates that the sample must be in values between 12 and 36 units."
      ]
    },
    {
      "cell_type": "code",
      "metadata": {
        "colab": {
          "base_uri": "https://localhost:8080/"
        },
        "id": "5CieCyoYo0IR",
        "outputId": "bc45752d-b4e4-4579-afcf-d53ca5bfdda2"
      },
      "source": [
        "n=(N*Z**2*p*(1-p))/(d**2*(N-1)+Z**2*p*(1-p))\n",
        "n"
      ],
      "execution_count": 20,
      "outputs": [
        {
          "output_type": "execute_result",
          "data": {
            "text/plain": [
              "interval([16.673275649602125, 64.85928223365727])"
            ]
          },
          "metadata": {
            "tags": []
          },
          "execution_count": 20
        }
      ]
    },
    {
      "cell_type": "markdown",
      "metadata": {
        "id": "M76wth5sCcLe"
      },
      "source": [
        "Crisp Example"
      ]
    },
    {
      "cell_type": "code",
      "metadata": {
        "id": "oKxlzwYPApXH",
        "colab": {
          "base_uri": "https://localhost:8080/"
        },
        "outputId": "201114b3-9fd3-44a8-e636-e0390c7c5e64"
      },
      "source": [
        "Z = 1.96\n",
        "N=15000\n",
        "p =0.05\n",
        "d=0.03\n",
        "n=(N*Z**2*p*(1-p))/(d**2*(N-1)+Z**2*p*(1-p))\n",
        "n"
      ],
      "execution_count": 13,
      "outputs": [
        {
          "output_type": "execute_result",
          "data": {
            "text/plain": [
              "200.06028545249464"
            ]
          },
          "metadata": {
            "tags": []
          },
          "execution_count": 13
        }
      ]
    }
  ]
}