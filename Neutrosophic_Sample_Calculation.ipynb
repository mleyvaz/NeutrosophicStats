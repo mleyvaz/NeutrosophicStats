{
  "nbformat": 4,
  "nbformat_minor": 0,
  "metadata": {
    "colab": {
      "name": "Neutrosophic Sample Calculation",
      "provenance": [],
      "authorship_tag": "ABX9TyO9W8V7rhRLHFYlaAf+l05I",
      "include_colab_link": true
    },
    "kernelspec": {
      "name": "python3",
      "display_name": "Python 3"
    },
    "language_info": {
      "name": "python"
    }
  },
  "cells": [
    {
      "cell_type": "markdown",
      "metadata": {
        "id": "view-in-github",
        "colab_type": "text"
      },
      "source": [
        "<a href=\"https://colab.research.google.com/github/mleyvaz/NeutrosophicStats/blob/main/Neutrosophic_Sample_Calculation.ipynb\" target=\"_parent\"><img src=\"https://colab.research.google.com/assets/colab-badge.svg\" alt=\"Open In Colab\"/></a>"
      ]
    },
    {
      "cell_type": "markdown",
      "metadata": {
        "id": "Mut-bS02jpBa"
      },
      "source": [
        "# Neutrosophic Sample Calculation"
      ]
    },
    {
      "cell_type": "code",
      "metadata": {
        "colab": {
          "base_uri": "https://localhost:8080/"
        },
        "id": "8sjPY4cHq75i",
        "outputId": "ae6c27fe-7e0e-4276-dc29-b18a5f7ba4b9"
      },
      "source": [
        "pip install pyinterval"
      ],
      "execution_count": null,
      "outputs": [
        {
          "output_type": "stream",
          "text": [
            "Collecting pyinterval\n",
            "  Downloading https://files.pythonhosted.org/packages/be/2c/2fc2d0e1bd4a150e5575bc52ae5e817e100fc54a0f485f7943b1d03e59fc/pyinterval-1.2.0.tar.gz\n",
            "Collecting crlibm==1.*,>=1.0.3\n",
            "\u001b[?25l  Downloading https://files.pythonhosted.org/packages/8e/0b/1faf9944f83d9f64e939ee8e6638b9335a2a7166445e28450d237f193459/crlibm-1.0.3.tar.gz (1.6MB)\n",
            "\u001b[K     |████████████████████████████████| 1.6MB 5.8MB/s \n",
            "\u001b[?25hRequirement already satisfied: six>=1.10 in /usr/local/lib/python3.7/dist-packages (from pyinterval) (1.15.0)\n",
            "Building wheels for collected packages: pyinterval, crlibm\n",
            "  Building wheel for pyinterval (setup.py) ... \u001b[?25l\u001b[?25hdone\n",
            "  Created wheel for pyinterval: filename=pyinterval-1.2.0-cp37-none-any.whl size=11252 sha256=5cceb9917698928c1dee51f768e51d70fa01dd0f1fd1f15341c537164bf73850\n",
            "  Stored in directory: /root/.cache/pip/wheels/c2/ab/65/4c7cddcba9cb0187655daea8d6f1a4e110eca28c3a43fd5229\n",
            "  Building wheel for crlibm (setup.py) ... \u001b[?25l\u001b[?25hdone\n",
            "  Created wheel for crlibm: filename=crlibm-1.0.3-cp37-cp37m-linux_x86_64.whl size=175286 sha256=12d7c4225427dc916d0f711574721d959cf3c8f4522bb6c5c70c931ccba67909\n",
            "  Stored in directory: /root/.cache/pip/wheels/d5/ab/34/92febb5ad2286e12413e2cfbc747920df1cff29f4f2435d951\n",
            "Successfully built pyinterval crlibm\n",
            "Installing collected packages: crlibm, pyinterval\n",
            "Successfully installed crlibm-1.0.3 pyinterval-1.2.0\n"
          ],
          "name": "stdout"
        }
      ]
    },
    {
      "cell_type": "code",
      "metadata": {
        "id": "W47vvaBzlwH-"
      },
      "source": [
        "from interval import interval, inf, imath"
      ],
      "execution_count": null,
      "outputs": []
    },
    {
      "cell_type": "markdown",
      "metadata": {
        "id": "NfaECmVbCyrj"
      },
      "source": [
        ""
      ]
    },
    {
      "cell_type": "markdown",
      "metadata": {
        "id": "V6yEKJb-mK4Y"
      },
      "source": [
        "In this case, you want a confidence level between 90 and 95%, z = [1.645, 1.96], d = [0.05, 0.1] and p = [0.4, 0.44], N = 40. "
      ]
    },
    {
      "cell_type": "code",
      "metadata": {
        "id": "nWWlMM8ioBWz"
      },
      "source": [
        "Z = interval[1.645, 1.96]\n",
        "N=40\n",
        "p =interval[0.4,0.44]\n",
        "d=interval[0.05, 0.1]\n",
        "\n",
        "\n"
      ],
      "execution_count": null,
      "outputs": []
    },
    {
      "cell_type": "markdown",
      "metadata": {
        "id": "oc8DNJc7ID-v"
      },
      "source": [
        "![image.png](data:image/png;base64,iVBORw0KGgoAAAANSUhEUgAAALcAAAAwCAYAAABT2+v/AAAFSUlEQVR4Ae1b7XLbQAj0+79zJhna2XS9hTtOQtY54YeG7wXB1m6nyePj4+Ozn97BT+TA4ye+VL9T/2E1DjS5+5vrx35zN7nfgNyPx+PTnv5GWvtGanJvTm4mNetN9DnRm9ybk5tJ3OSeE/ppX2y0/nd5RiI8uhP4ITUO2+LQPYl6T3r55pthRnWevxLLw9/B15/cg0/uiAAjP2IsofPBsz7UePmIZaVhAIcl9CzOu+Q1uSfk9g7v+fjgFsfDftYVQ20vd5TD+TMds1XhzfrdFW9yB+TG4SH5QJ5P45Yzy9MatqEDBxL+MxJYK/Od6XdXbZN7kdwjQoA0dkzksS86MnKj+MgPfGDA9mo4lsk3DK/Gw97R1+SekBsHxvFACtiRrM6L+sDPJDTfrP8srhiKj747yya3Q249PNusnz1sFZbhKJbaq7NqvdqreHfkN7kXyF154KuxzuB7tZ7vDsKu9Gxyb0TuowTSOrVXCGG5Wm+2+lYx78hvcgu5oyNWHtjr4fkyhNA6tTMYmsMYprOtuTvbTW4iNw4JyYerOjCwPcn9srriZOtGeYxpeWaP8neNNbmJ3LsdiUkGXWd8BfFe0UPfq8Jucm9ObhzZI5jnQ36VfEWPqlkVp8m9KbmZVKzjgObDA1+1BL7Xv7rXFXhN7o3JzeR6V4JdQdos5hO5sUwUqw0/S+R4kvNaX/tZ5N7X+X09kdsWaiT1ZC/7/LJ7h6/doUtuEJxJHh3G+8SGL6pp/2uP/Fv3/URuJSWTvGpB6NHy3z8Iexc1u1CO/kduTriC3Izfen+CX8mBb3IrkWFDXjlEYzfJr+DAkNy7ENvmqJylEqvqKHfOVL3fqp2cxfkm91mgq+r56Kwf7VeBcbT3qO6uubgv66NZ3yW2Pbl5kRXLr8DgmSr1u2e7u3/lLg1rK3LbckcLHsV4MVFe5P+ziMF/Z1sdP9zrqO7N4vmO4us78fxRn8ivM2TztC5jV2JvRW4cxFvC7KUtjhyW0EfY3I/zM37OyeiGj8fLj/p7uTOfh+X5DCfyo4fFkcMSOvKOyKuw34LcWCDkaIFYlJfr+RQL9Z5ffWfsaJbIj16zOPJMaq7ayIUfEn5PWg4eL37GB9zMHJk+W5Hbeyl+YS+uL8n5Xkx9bAMf0oux74zu9TC8yI9eszjyPOnVmo8fr459K7lcl9GrsW8nN17IXt70zBK8HA+HfRl89IdEH7XhPyMjzMiPXrM48lQerQOO1QODJXTkQSIfcdiIs+TY0XzGg34rufEiNgy/IIY7KhmXMSI/cjge6chlabnRw3msM/7MH2FHGIxnejZP6yJ7BQ+zA2tWuxJXbPSAvI3c+hJqY8BKOeqhMbZZr5onwoz86DuLIw9yNR91FdJ6a3+1V/pordqKdQu5vaE8nw571h710BhsyLO9tT7Cjfyon8WRZ3Ill+uqdK+/58v08+o8H2NtQW4bcjYoD31UH/XQGGzIoz2jugg38gNnFkeeSS/X83FNpa691F7ppbVmq0/xbic3DzkbVodftSP8kT+KrfbW/Ag38mv9zPZwPN8M52hce6m9isv1prMdYd1Gbh6Q9WjQCr+3EPSG5D5ePseP6uil+GpX4HOvKvzMXNV9Gc/6Z97lFnJnlnNVTmYpV/We4b56NiYM9NmM2fjV75LBb3Jv9NvvmYNlyZXJ436sZ2pHOZVYXp8sfpN7E3JnD+Yd+4iP+7F+BItrDAsP+6t0YGdm/nXktiVnFlN1jCzOq2dikkDPzvoueb+S3O9ynJ7z3K/fNbk3+WtJE/kckb39Nbmb3Id/WM0j1E6+L590JQp5yp+bAAAAAElFTkSuQmCC)"
      ]
    },
    {
      "cell_type": "code",
      "metadata": {
        "colab": {
          "base_uri": "https://localhost:8080/"
        },
        "id": "5CieCyoYo0IR",
        "outputId": "49e23822-ad90-4e47-e6c6-1667fe98b7cf"
      },
      "source": [
        "n=(N*Z**2*p*(1-p))/(d**2*(N-1)+Z**2*p*(1-p))\n",
        "n"
      ],
      "execution_count": null,
      "outputs": [
        {
          "output_type": "execute_result",
          "data": {
            "text/plain": [
              "interval([17.266976142130808, 57.65269531880646])"
            ]
          },
          "metadata": {
            "tags": []
          },
          "execution_count": 27
        }
      ]
    },
    {
      "cell_type": "markdown",
      "metadata": {
        "id": "M76wth5sCcLe"
      },
      "source": [
        "Crisp Example"
      ]
    },
    {
      "cell_type": "code",
      "metadata": {
        "id": "oKxlzwYPApXH",
        "colab": {
          "base_uri": "https://localhost:8080/"
        },
        "outputId": "05357223-5db6-4cc1-8b1e-dc62eacbe489"
      },
      "source": [
        "Z = 1.96\n",
        "N=15000\n",
        "p =0.05\n",
        "d=0.03\n",
        "n=(N*Z**2*p*(1-p))/(d**2*(N-1)+Z**2*p*(1-p))\n",
        "n"
      ],
      "execution_count": null,
      "outputs": [
        {
          "output_type": "execute_result",
          "data": {
            "text/plain": [
              "200.06028545249464"
            ]
          },
          "metadata": {
            "tags": []
          },
          "execution_count": 24
        }
      ]
    }
  ]
}