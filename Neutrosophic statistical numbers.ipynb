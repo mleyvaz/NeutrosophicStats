{
  "nbformat": 4,
  "nbformat_minor": 0,
  "metadata": {
    "colab": {
      "name": "Intro to neutrosophic stats and linear equations.ipynb",
      "provenance": [],
      "include_colab_link": true
    },
    "kernelspec": {
      "name": "python3",
      "display_name": "Python 3"
    }
  },
  "cells": [
    {
      "cell_type": "markdown",
      "metadata": {
        "id": "view-in-github",
        "colab_type": "text"
      },
      "source": [
        "<a href=\"https://colab.research.google.com/github/mleyvaz/NeutrosophicStats/blob/main/Neutrosophic%20statistical%20numbers.ipynb\" target=\"_parent\"><img src=\"https://colab.research.google.com/assets/colab-badge.svg\" alt=\"Open In Colab\"/></a>"
      ]
    },
    {
      "cell_type": "markdown",
      "metadata": {
        "id": "vdFk-30x8_57"
      },
      "source": [
        "# Neutrosophic statistical numbers\n",
        "\n"
      ]
    },
    {
      "cell_type": "markdown",
      "metadata": {
        "id": "WQw8UHR9Oa18"
      },
      "source": [
        "## Introduction to neutrosophic numbers"
      ]
    },
    {
      "cell_type": "code",
      "metadata": {
        "id": "nqrA4xE49CI4"
      },
      "source": [
        "from sympy import var"
      ],
      "execution_count": 3,
      "outputs": []
    },
    {
      "cell_type": "code",
      "metadata": {
        "id": "kQeom-I4aqeu",
        "colab": {
          "base_uri": "https://localhost:8080/",
          "height": 37
        },
        "outputId": "bff16d6d-1ef8-4778-927a-08998760bcb1"
      },
      "source": [
        "i = var('i')\n",
        "2*i+3"
      ],
      "execution_count": 4,
      "outputs": [
        {
          "output_type": "execute_result",
          "data": {
            "text/latex": "$\\displaystyle 2 i + 3$",
            "text/plain": [
              "2*i + 3"
            ]
          },
          "metadata": {
            "tags": []
          },
          "execution_count": 4
        }
      ]
    },
    {
      "cell_type": "markdown",
      "metadata": {
        "id": "0KaJbs57dGqJ"
      },
      "source": [
        "# Multiplication by a scalar\n"
      ]
    },
    {
      "cell_type": "code",
      "metadata": {
        "id": "_69MmndTdQKK",
        "colab": {
          "base_uri": "https://localhost:8080/",
          "height": 37
        },
        "outputId": "cc8a902d-f5b5-4ad5-aa1c-dde9196718a0"
      },
      "source": [
        "2*(2+i)\n",
        "\n"
      ],
      "execution_count": 6,
      "outputs": [
        {
          "output_type": "execute_result",
          "data": {
            "text/latex": "$\\displaystyle 2 i + 4$",
            "text/plain": [
              "2*i + 4"
            ]
          },
          "metadata": {
            "tags": []
          },
          "execution_count": 6
        }
      ]
    },
    {
      "cell_type": "markdown",
      "metadata": {
        "id": "EfH1NST6dYdN"
      },
      "source": [
        "#  De-neutrosificación  con mpmath\n",
        "\n",
        "Perform the de-neutrosophication of the number $ 3+2i $\n",
        "\n",
        "with $i{\\in}[10,30]$ "
      ]
    },
    {
      "cell_type": "code",
      "metadata": {
        "id": "epE7GZpac5yD",
        "colab": {
          "base_uri": "https://localhost:8080/"
        },
        "outputId": "e292af55-c8c2-4949-8704-93d74bb810f3"
      },
      "source": [
        "from mpmath import *\n",
        "mp.dps = 15 #tablishes the accuracy \n",
        "i=mpi(10, 30)\n",
        "3 + 2*i"
      ],
      "execution_count": 7,
      "outputs": [
        {
          "output_type": "execute_result",
          "data": {
            "text/plain": [
              "mpi('23.0', '63.0')"
            ]
          },
          "metadata": {
            "tags": []
          },
          "execution_count": 7
        }
      ]
    },
    {
      "cell_type": "code",
      "metadata": {
        "id": "nirJ2mSTdnlx",
        "colab": {
          "base_uri": "https://localhost:8080/"
        },
        "outputId": "c33f7e1b-35b1-4e7a-c52a-7acf3066459f"
      },
      "source": [
        "mp.dps = 15 #tablishes the accuracy  \n",
        "i=mpi(2, 3)\n",
        "2*i + 4"
      ],
      "execution_count": 8,
      "outputs": [
        {
          "output_type": "execute_result",
          "data": {
            "text/plain": [
              "mpi('8.0', '10.0')"
            ]
          },
          "metadata": {
            "tags": []
          },
          "execution_count": 8
        }
      ]
    },
    {
      "cell_type": "markdown",
      "metadata": {
        "id": "rmn0wRSA_wZQ"
      },
      "source": [
        "# Neutrosophic matrices"
      ]
    },
    {
      "cell_type": "markdown",
      "metadata": {
        "id": "epvaa9U-wUK3"
      },
      "source": [
        "#Introduciendo indeterminación\n",
        "Resolver el siguiente sistema de ecuaciones lineales. \n",
        "* $ x + 4 y =  2+i$\n",
        "\n",
        "* $-2 x +   y = 14+i$"
      ]
    },
    {
      "cell_type": "code",
      "metadata": {
        "id": "rGTZ3Y7ZpuGC",
        "colab": {
          "base_uri": "https://localhost:8080/",
          "height": 34
        },
        "outputId": "08fabd13-c9af-4bb8-8ba3-9a00014d1a7f"
      },
      "source": [
        "\n",
        "from sympy import Matrix, solve_linear_system\n",
        "from sympy.abc import x, y\n",
        "i = var('i')\n",
        "system = Matrix(( (1, 4, 2+i), (-2, 1, 14+i)))\n",
        "solve_linear_system(system, x, y)\n"
      ],
      "execution_count": null,
      "outputs": [
        {
          "output_type": "execute_result",
          "data": {
            "text/plain": [
              "{x: -i/3 - 6, y: i/3 + 2}"
            ]
          },
          "metadata": {
            "tags": []
          },
          "execution_count": 8
        }
      ]
    },
    {
      "cell_type": "markdown",
      "metadata": {
        "id": "oMAoyq4aIk48"
      },
      "source": [
        "#  Systems of Neutrosophic Linear Equations"
      ]
    },
    {
      "cell_type": "markdown",
      "metadata": {
        "id": "NTsxz1mlyv5y"
      },
      "source": [
        "![Flujo Vehicular](https://github.com/mleyvaz/NN/blob/master/img/flujo%20vehicular.png?raw=true)"
      ]
    },
    {
      "cell_type": "code",
      "metadata": {
        "id": "BRdVwieSpQuL",
        "colab": {
          "base_uri": "https://localhost:8080/",
          "height": 34
        },
        "outputId": "73c8d2ae-3c5e-4263-bc6b-91fc0fefb880"
      },
      "source": [
        "from sympy import Matrix, solve_linear_system\n",
        "from sympy.abc import x, y, z\n",
        "\n",
        "system = Matrix(( (1,0,0, 1100), (1, 1, 0, 1300), (0, 1, 2,3400)))\n",
        "\n",
        "solve_linear_system(system, x, y, z)"
      ],
      "execution_count": null,
      "outputs": [
        {
          "output_type": "execute_result",
          "data": {
            "text/plain": [
              "{x: 1100, y: 200, z: 1600}"
            ]
          },
          "metadata": {
            "tags": []
          },
          "execution_count": 9
        }
      ]
    },
    {
      "cell_type": "code",
      "metadata": {
        "id": "i_x49w2JR4l_",
        "colab": {
          "base_uri": "https://localhost:8080/",
          "height": 34
        },
        "outputId": "ed3cbdfd-81f4-461b-b2e8-98db42b46ce3"
      },
      "source": [
        "from sympy import Matrix, solve_linear_system\n",
        "from sympy.abc import x, y, z\n",
        "\n",
        "system = Matrix(( (1,0,0, 1100-i), (1, 1, 0, 1300), (0, 1, 2,3400-i)))\n",
        "\n",
        "solve_linear_system(system, x, y, z)"
      ],
      "execution_count": null,
      "outputs": [
        {
          "output_type": "execute_result",
          "data": {
            "text/plain": [
              "{x: -i + 1100, y: i + 200, z: -i + 1600}"
            ]
          },
          "metadata": {
            "tags": []
          },
          "execution_count": 10
        }
      ]
    }
  ]
}