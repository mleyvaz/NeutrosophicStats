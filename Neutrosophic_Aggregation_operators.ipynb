{
  "nbformat": 4,
  "nbformat_minor": 0,
  "metadata": {
    "colab": {
      "name": "Neutrosophic Aggregation operators",
      "provenance": [],
      "authorship_tag": "ABX9TyOCD96ZIjfG9VpiNVxbSX67",
      "include_colab_link": true
    },
    "kernelspec": {
      "name": "python3",
      "display_name": "Python 3"
    },
    "language_info": {
      "name": "python"
    }
  },
  "cells": [
    {
      "cell_type": "markdown",
      "metadata": {
        "id": "view-in-github",
        "colab_type": "text"
      },
      "source": [
        "<a href=\"https://colab.research.google.com/github/mleyvaz/NeutrosophicStats/blob/main/Neutrosophic_Aggregation_operators.ipynb\" target=\"_parent\"><img src=\"https://colab.research.google.com/assets/colab-badge.svg\" alt=\"Open In Colab\"/></a>"
      ]
    },
    {
      "cell_type": "markdown",
      "metadata": {
        "id": "EnL6GBbSo36o"
      },
      "source": [
        "# Neutrosophic Aggregation operators"
      ]
    },
    {
      "cell_type": "markdown",
      "metadata": {
        "id": "IFUicZDfoxW1"
      },
      "source": [
        "## Neutrosophic Linguistic Variables Example "
      ]
    },
    {
      "cell_type": "code",
      "metadata": {
        "id": "1w3xZBB-nPIz"
      },
      "source": [
        "\n",
        "\n",
        "EB=(1,0,0)\n",
        "MMB=(0.9, 0.1, 0.1)\n",
        "MB=(0.8,0.15,0.20)\n",
        "B=(0.70,0.25,0.30)\n",
        "MDB=(0.60,0.35,0.40)\n",
        "M=(0.50,0.50,0.50)\n",
        "MDM=(0.40,0.65,0.60)\n",
        "MA=(0.30,0.75,0.70)\n",
        "MM=(0.20,0.85,0.80)\n",
        "MMM=(0.10,0.90,0.90)\n",
        "EM=(0,1,1)"
      ],
      "execution_count": null,
      "outputs": []
    },
    {
      "cell_type": "markdown",
      "metadata": {
        "id": "dD6M8mJoohjX"
      },
      "source": [
        "## Single-valued neutrosophic weighted average operator"
      ]
    },
    {
      "cell_type": "code",
      "metadata": {
        "id": "fHcGS5SNogpT"
      },
      "source": [
        "def SVNWA(list,W):\n",
        "    t=1\n",
        "    i=1\n",
        "    f=1\n",
        "    c=0\n",
        "    for j in list:\n",
        "        t=t*(1-j[0])**W[c]\n",
        "        i=i*j[1]**W[c]\n",
        "        f=f*j[2]**W[c]\n",
        "        c=c+1\n",
        "    return (1-t,i,f)"
      ],
      "execution_count": null,
      "outputs": []
    },
    {
      "cell_type": "markdown",
      "metadata": {
        "id": "X6dtkYIApEB1"
      },
      "source": [
        "## Single-valued neutrosophic weighted average operator example "
      ]
    },
    {
      "cell_type": "code",
      "metadata": {
        "id": "_UtLJHuupWc5",
        "colab": {
          "base_uri": "https://localhost:8080/"
        },
        "outputId": "e89c6571-1e10-4276-bd51-153ef44f4ba2"
      },
      "source": [
        "A=[MDB,B,MDB]\n",
        "W = [0.55, 0.26, 0.19] # W:Weight vector\n",
        "SVNWA(A,W)"
      ],
      "execution_count": 4,
      "outputs": [
        {
          "output_type": "execute_result",
          "data": {
            "text/plain": [
              "(0.6288273908179018, 0.3206821266885689, 0.37117260918209816)"
            ]
          },
          "metadata": {
            "tags": []
          },
          "execution_count": 4
        }
      ]
    },
    {
      "cell_type": "markdown",
      "metadata": {
        "id": "_dRwMd8lqDox"
      },
      "source": [
        "# Single-valued neutrosophic geometric average operator"
      ]
    },
    {
      "cell_type": "code",
      "metadata": {
        "id": "V3G0x2bhp7q6"
      },
      "source": [
        "def SVNGA(list,W):\n",
        "    t=1\n",
        "    i=1\n",
        "    f=1\n",
        "    c=0\n",
        "    for j in list:\n",
        "        t=t*j[0]**W[c]\n",
        "        i=i*j[1]**W[c]\n",
        "        f=f*j[2]**W[c] \n",
        "        c=c+1\n",
        "    return (t,i,f)"
      ],
      "execution_count": 6,
      "outputs": []
    },
    {
      "cell_type": "markdown",
      "metadata": {
        "id": "JhC0GO8Fqhxb"
      },
      "source": [
        "## # Single-valued neutrosophic geometric average operator example"
      ]
    },
    {
      "cell_type": "code",
      "metadata": {
        "colab": {
          "base_uri": "https://localhost:8080/"
        },
        "id": "XHocFgXlqpS9",
        "outputId": "52ea60e4-ea7a-4db6-c333-e28eb110254e"
      },
      "source": [
        "A=[MDB,B,MDB]\n",
        "W = [0.55, 0.26, 0.19] # W::Weight vector\n",
        "SVNGA(A,W)"
      ],
      "execution_count": 7,
      "outputs": [
        {
          "output_type": "execute_result",
          "data": {
            "text/plain": [
              "(0.6245359112847807, 0.3206821266885689, 0.37117260918209816)"
            ]
          },
          "metadata": {
            "tags": []
          },
          "execution_count": 7
        }
      ]
    },
    {
      "cell_type": "markdown",
      "metadata": {
        "id": "lnfy5Sf-rBDq"
      },
      "source": [
        "## Main operators of Geometric Mean Based Compensatory Logic (GBCFL),\n",
        "\n"
      ]
    },
    {
      "cell_type": "code",
      "metadata": {
        "id": "R27uPbb4rQ4i"
      },
      "source": [
        "def And(x):\n",
        "    prod=1.0\n",
        "    for i in x:\n",
        "        prod=prod*i\n",
        "    return prod**(1.0/len(x))\n",
        "def Or(x):\n",
        "    prod=1.0\n",
        "    h=0.3\n",
        "    for i in x:\n",
        "        prod=prod*(1-i)\n",
        "    return 1-prod**(1.0/len(x))\n",
        "def Neg(x):\n",
        "    return 1-x"
      ],
      "execution_count": 8,
      "outputs": []
    }
  ]
}