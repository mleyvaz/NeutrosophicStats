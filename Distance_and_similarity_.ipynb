{
  "nbformat": 4,
  "nbformat_minor": 0,
  "metadata": {
    "colab": {
      "name": "Distance and similarity .ipynb",
      "provenance": [],
      "authorship_tag": "ABX9TyPNPiXpRfJiZP+gYGBEgSYZ",
      "include_colab_link": true
    },
    "kernelspec": {
      "name": "python3",
      "display_name": "Python 3"
    },
    "language_info": {
      "name": "python"
    }
  },
  "cells": [
    {
      "cell_type": "markdown",
      "metadata": {
        "id": "view-in-github",
        "colab_type": "text"
      },
      "source": [
        "<a href=\"https://colab.research.google.com/github/mleyvaz/NeutrosophicStats/blob/main/Distance_and_similarity_.ipynb\" target=\"_parent\"><img src=\"https://colab.research.google.com/assets/colab-badge.svg\" alt=\"Open In Colab\"/></a>"
      ]
    },
    {
      "cell_type": "markdown",
      "metadata": {
        "id": "XdVNIoxhr1Bq"
      },
      "source": [
        "# Distance and similarity in single valued neutrosophic number"
      ]
    },
    {
      "cell_type": "markdown",
      "metadata": {
        "id": "JlWLYPstsF7k"
      },
      "source": [
        "## Euclidian distance in single valued neutrosophic numbers"
      ]
    },
    {
      "cell_type": "code",
      "metadata": {
        "id": "7W3itqQ9sCvG"
      },
      "source": [
        "def euclideanSVN(a1,a2):\n",
        "    a=0\n",
        "    c=len(a1)    \n",
        "    for i in range(c):        \n",
        "        a=a+pow(a1[i][0]-a2[i][0],2)+pow(a1[i][1]-a2[i][1],2)+pow(a1[i][2]-a2[i][2],2)\n",
        "    a=pow(1.0/3.0*a,0.5)\n",
        "    return(a)"
      ],
      "execution_count": 6,
      "outputs": []
    },
    {
      "cell_type": "markdown",
      "metadata": {
        "id": "_N8KpJG_sV-8"
      },
      "source": [
        "## Similarity in in single valued neutrosophic number"
      ]
    },
    {
      "cell_type": "code",
      "metadata": {
        "id": "dlpo3woWr0Rl"
      },
      "source": [
        "def simSVN(a1,a2):\n",
        "    return 1-euclideanSVN(a1,a2)"
      ],
      "execution_count": 7,
      "outputs": []
    },
    {
      "cell_type": "markdown",
      "metadata": {
        "id": "GRIVDTzmt_fB"
      },
      "source": [
        "## Distance and similarity calculation example"
      ]
    },
    {
      "cell_type": "code",
      "metadata": {
        "id": "K2fH_uxmuPPY"
      },
      "source": [
        "EB=(1,0,0)\n",
        "MMB=(0.9, 0.1, 0.1)\n",
        "MB=(0.8,0.15,0.20)\n",
        "B=(0.70,0.25,0.30)\n",
        "MDB=(0.60,0.35,0.40)\n",
        "M=(0.50,0.50,0.50)\n",
        "MDM=(0.40,0.65,0.60)\n",
        "MA=(0.30,0.75,0.70)\n",
        "MM=(0.20,0.85,0.80)\n",
        "MMM=(0.10,0.90,0.90)\n",
        "EM=(0,1,1)\n",
        "P=[MDB,MB,MMB,MB] \n",
        "A=[MDB,M,MMB,M]\n"
      ],
      "execution_count": 11,
      "outputs": []
    },
    {
      "cell_type": "code",
      "metadata": {
        "colab": {
          "base_uri": "https://localhost:8080/"
        },
        "id": "uoZOLey-vTtI",
        "outputId": "cc6c7fec-128f-4a80-f19e-01c1a6aa728c"
      },
      "source": [
        "euclideanSVN(A,P)\n"
      ],
      "execution_count": 12,
      "outputs": [
        {
          "output_type": "execute_result",
          "data": {
            "text/plain": [
              "0.4490731195102493"
            ]
          },
          "metadata": {
            "tags": []
          },
          "execution_count": 12
        }
      ]
    },
    {
      "cell_type": "code",
      "metadata": {
        "colab": {
          "base_uri": "https://localhost:8080/"
        },
        "id": "kNU2mIbtvV_R",
        "outputId": "e28e3aac-4379-450a-9d91-8bc29e291f3a"
      },
      "source": [
        "simSVN(A,P)"
      ],
      "execution_count": 13,
      "outputs": [
        {
          "output_type": "execute_result",
          "data": {
            "text/plain": [
              "0.5509268804897507"
            ]
          },
          "metadata": {
            "tags": []
          },
          "execution_count": 13
        }
      ]
    }
  ]
}