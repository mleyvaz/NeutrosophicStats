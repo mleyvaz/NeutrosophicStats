{
  "nbformat": 4,
  "nbformat_minor": 0,
  "metadata": {
    "colab": {
      "name": "Neutrosophic Sample Calculation",
      "provenance": [],
      "authorship_tag": "ABX9TyNkLEOBeTRHgxORMARjZCZu",
      "include_colab_link": true
    },
    "kernelspec": {
      "name": "python3",
      "display_name": "Python 3"
    },
    "language_info": {
      "name": "python"
    }
  },
  "cells": [
    {
      "cell_type": "markdown",
      "metadata": {
        "id": "view-in-github",
        "colab_type": "text"
      },
      "source": [
        "<a href=\"https://colab.research.google.com/github/mleyvaz/NeutrosophicStats/blob/main/Neutrosophic_Sample_Calculation.ipynb\" target=\"_parent\"><img src=\"https://colab.research.google.com/assets/colab-badge.svg\" alt=\"Open In Colab\"/></a>"
      ]
    },
    {
      "cell_type": "markdown",
      "metadata": {
        "id": "Mut-bS02jpBa"
      },
      "source": [
        "# Neutrosophic Sample Calculation"
      ]
    },
    {
      "cell_type": "code",
      "metadata": {
        "colab": {
          "base_uri": "https://localhost:8080/"
        },
        "id": "8sjPY4cHq75i",
        "outputId": "678c251c-ac70-46f1-a9a2-283d94129a79"
      },
      "source": [
        "pip install pyinterval"
      ],
      "execution_count": 3,
      "outputs": [
        {
          "output_type": "stream",
          "text": [
            "Collecting pyinterval\n",
            "  Downloading https://files.pythonhosted.org/packages/be/2c/2fc2d0e1bd4a150e5575bc52ae5e817e100fc54a0f485f7943b1d03e59fc/pyinterval-1.2.0.tar.gz\n",
            "Collecting crlibm==1.*,>=1.0.3\n",
            "\u001b[?25l  Downloading https://files.pythonhosted.org/packages/8e/0b/1faf9944f83d9f64e939ee8e6638b9335a2a7166445e28450d237f193459/crlibm-1.0.3.tar.gz (1.6MB)\n",
            "\u001b[K     |████████████████████████████████| 1.6MB 6.3MB/s \n",
            "\u001b[?25hRequirement already satisfied: six>=1.10 in /usr/local/lib/python3.7/dist-packages (from pyinterval) (1.15.0)\n",
            "Building wheels for collected packages: pyinterval, crlibm\n",
            "  Building wheel for pyinterval (setup.py) ... \u001b[?25l\u001b[?25hdone\n",
            "  Created wheel for pyinterval: filename=pyinterval-1.2.0-cp37-none-any.whl size=11252 sha256=18f344a08507fa607de58e9d10e3a89cff07505bf851aca0dbb5c5d60fa93362\n",
            "  Stored in directory: /root/.cache/pip/wheels/c2/ab/65/4c7cddcba9cb0187655daea8d6f1a4e110eca28c3a43fd5229\n",
            "  Building wheel for crlibm (setup.py) ... \u001b[?25l\u001b[?25hdone\n",
            "  Created wheel for crlibm: filename=crlibm-1.0.3-cp37-cp37m-linux_x86_64.whl size=175288 sha256=172811e1aa237993f15f07f4cf1f565ae773a7d279d0c0aa901f467f7e4133be\n",
            "  Stored in directory: /root/.cache/pip/wheels/d5/ab/34/92febb5ad2286e12413e2cfbc747920df1cff29f4f2435d951\n",
            "Successfully built pyinterval crlibm\n",
            "Installing collected packages: crlibm, pyinterval\n",
            "Successfully installed crlibm-1.0.3 pyinterval-1.2.0\n"
          ],
          "name": "stdout"
        }
      ]
    },
    {
      "cell_type": "code",
      "metadata": {
        "id": "W47vvaBzlwH-"
      },
      "source": [
        "from interval import interval, inf, imath"
      ],
      "execution_count": 4,
      "outputs": []
    },
    {
      "cell_type": "code",
      "metadata": {
        "id": "nWWlMM8ioBWz"
      },
      "source": [
        "Z = interval[1.645, 1.96]\n",
        "N=40\n",
        "p =interval[0.4,0.44]\n",
        "d=interval[0.05, 0.1]\n",
        "\n",
        "\n"
      ],
      "execution_count": 6,
      "outputs": []
    },
    {
      "cell_type": "code",
      "metadata": {
        "colab": {
          "base_uri": "https://localhost:8080/"
        },
        "id": "5CieCyoYo0IR",
        "outputId": "3f1cee4e-d7e7-40fd-c964-750a3d7b2adf"
      },
      "source": [
        "n=(N*Z*p*(1-p))/(d*d*(N-1)+Z*Z*p*(1-p))\n",
        "(n,0)"
      ],
      "execution_count": 8,
      "outputs": [
        {
          "output_type": "execute_result",
          "data": {
            "text/plain": [
              "(interval([10.496642031690465, 29.414640468778803]), 0)"
            ]
          },
          "metadata": {
            "tags": []
          },
          "execution_count": 8
        }
      ]
    }
  ]
}