{
  "nbformat": 4,
  "nbformat_minor": 0,
  "metadata": {
    "colab": {
      "name": "Neutrosophic Sample Calculation",
      "provenance": [],
      "authorship_tag": "ABX9TyMOq4n2eLk2FRejQQ+bRnjL",
      "include_colab_link": true
    },
    "kernelspec": {
      "name": "python3",
      "display_name": "Python 3"
    },
    "language_info": {
      "name": "python"
    }
  },
  "cells": [
    {
      "cell_type": "markdown",
      "metadata": {
        "id": "view-in-github",
        "colab_type": "text"
      },
      "source": [
        "<a href=\"https://colab.research.google.com/github/mleyvaz/NeutrosophicStats/blob/main/Neutrosophic_Sample_Calculation.ipynb\" target=\"_parent\"><img src=\"https://colab.research.google.com/assets/colab-badge.svg\" alt=\"Open In Colab\"/></a>"
      ]
    },
    {
      "cell_type": "markdown",
      "metadata": {
        "id": "Mut-bS02jpBa"
      },
      "source": [
        "# Neutrosophic Sample Calculation"
      ]
    },
    {
      "cell_type": "code",
      "metadata": {
        "colab": {
          "base_uri": "https://localhost:8080/"
        },
        "id": "8sjPY4cHq75i",
        "outputId": "60947416-0ec8-4e3a-a6f0-f7418161dd1f"
      },
      "source": [
        "pip install pyinterval"
      ],
      "execution_count": 9,
      "outputs": [
        {
          "output_type": "stream",
          "text": [
            "Requirement already satisfied: pyinterval in /usr/local/lib/python3.7/dist-packages (1.2.0)\n",
            "Requirement already satisfied: crlibm==1.*,>=1.0.3 in /usr/local/lib/python3.7/dist-packages (from pyinterval) (1.0.3)\n",
            "Requirement already satisfied: six>=1.10 in /usr/local/lib/python3.7/dist-packages (from pyinterval) (1.15.0)\n"
          ],
          "name": "stdout"
        }
      ]
    },
    {
      "cell_type": "code",
      "metadata": {
        "id": "W47vvaBzlwH-"
      },
      "source": [
        "from interval import interval, inf, imath"
      ],
      "execution_count": 10,
      "outputs": []
    },
    {
      "cell_type": "markdown",
      "metadata": {
        "id": "V6yEKJb-mK4Y"
      },
      "source": [
        "In this case, you want a confidence level between 90 and 95%, z = [1.645, 1.96], d = [0.05, 0.1] and p = [0.4, 0.44], N = 50. "
      ]
    },
    {
      "cell_type": "code",
      "metadata": {
        "id": "nWWlMM8ioBWz"
      },
      "source": [
        "Z = interval[1.645, 1.96]\n",
        "N=50\n",
        "p =interval[0.4,0.44]\n",
        "d=interval[0.05, 0.1]\n",
        "\n",
        "\n"
      ],
      "execution_count": 13,
      "outputs": []
    },
    {
      "cell_type": "markdown",
      "metadata": {
        "id": "B2FjWcz6mwKa"
      },
      "source": [
        "The result of the neutrosophic sample is n = [12.248514541853428, 35.506778566817324] indicates that the sample must be in values between 12 and 36 units."
      ]
    },
    {
      "cell_type": "code",
      "metadata": {
        "colab": {
          "base_uri": "https://localhost:8080/"
        },
        "id": "5CieCyoYo0IR",
        "outputId": "6154e0a8-61a1-40e4-f6d3-907c40fc10fb"
      },
      "source": [
        "n=(N*Z*p*(1-p))/(d*d*(N-1)+Z*Z*p*(1-p))\n",
        "(n,0)"
      ],
      "execution_count": 14,
      "outputs": [
        {
          "output_type": "execute_result",
          "data": {
            "text/plain": [
              "(interval([12.248514541853428, 35.506778566817324]), 0)"
            ]
          },
          "metadata": {
            "tags": []
          },
          "execution_count": 14
        }
      ]
    }
  ]
}